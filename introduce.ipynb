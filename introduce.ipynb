{
 "cells": [
  {
   "cell_type": "markdown",
   "id": "c7a8992e",
   "metadata": {},
   "source": [
    "과제1. 자기소개 프로그램 만들기"
   ]
  },
  {
   "cell_type": "code",
   "execution_count": null,
   "id": "2bed2f6d",
   "metadata": {},
   "outputs": [],
   "source": [
    "import json\n",
    "\n",
    "name = input(\"Enter your name: \")\n",
    "gender = input(\"Enter your gender (M/F): \")\n",
    "email = input(\"Enter your email: \")\n",
    "phone = input(\"Enter your phone number: \")\n",
    "address = input(\"Enter your address: \")\n",
    "major = input(\"Enter your major: \")\n",
    "birth = input(\"Enter your birthday (yyyymmdd): \")\n",
    "\n",
    "tech_set = [Management, Economics, Finance, Tableau, Python]\n",
    "\n",
    "profile = {\n",
    "    \"name\": name,\n",
    "    \"gender\": gender,\n",
    "    \"email\": email,\n",
    "    \"phone\": phone,\n",
    "    \"address\": address,\n",
    "    \"major\": major,\n",
    "    \"birth\": birth\n",
    "}\n",
    "print(\"your basic profile created\")\n",
    "print(json.dumps(profile, indent=2))\n",
    "print(\"Enter your technical skills (comma separated): \")\n",
    "\n",
    "\n",
    "project_list = []\n",
    "\n",
    "for i in range(num):\n",
    "    project_name = input(\"Enter project name: \")\n",
    "    project_theme = input(\"Enter project theme: \")\n",
    "    projcet_tech = input(\"Enter the tech: \")\n",
    "    project_date = input(\"Enter the date: \")\n",
    "\n",
    "    pro = {\n",
    "        \n",
    "    }"
   ]
  },
  {
   "cell_type": "code",
   "execution_count": 7,
   "id": "b0f55c56",
   "metadata": {},
   "outputs": [
    {
     "name": "stdout",
     "output_type": "stream",
     "text": [
      "\n",
      "[your profile created]\n",
      "{\n",
      "  \"name\": \"daemun nam\",\n",
      "  \"gender\": \"M\",\n",
      "  \"email\": \"greatbrian88@gmail.com\",\n",
      "  \"phone\": \"010-2858-7940\",\n",
      "  \"address\": \"Gwanak-gu Seoul\",\n",
      "  \"major\": \"\\uacbd\\uc601 \\uacbd\\uc81c\",\n",
      "  \"\": \"\"\n",
      "}\n",
      "\n",
      "'major' updated successfully!\n",
      "\n",
      "[Final profile]\n",
      "{\n",
      "  \"name\": \"daemun nam\",\n",
      "  \"gender\": \"M\",\n",
      "  \"email\": \"greatbrian88@gmail.com\",\n",
      "  \"phone\": \"010-2858-7940\",\n",
      "  \"address\": \"Gwanak-gu Seoul\",\n",
      "  \"major\": \"management & economics\",\n",
      "  \"\": \"\"\n",
      "}\n"
     ]
    }
   ],
   "source": [
    "print(\"\\n[your profile created]\")\n",
    "print(json.dumps(profile, indent=2))\n",
    "\n",
    "field_to_edit = input(\"\\nEnter the field you want to edit: \")\n",
    "new_value = input(f\"Enter the new value for {field_to_edit}: \")\n",
    "\n",
    "profile[field_to_edit] = new_value\n",
    "\n",
    "print(f\"\\n'{field_to_edit}' updated successfully!\")\n",
    "print(\"\\n[Final profile]\")\n",
    "print(json.dumps(profile, indent=2))"
   ]
  },
  {
   "cell_type": "code",
   "execution_count": 17,
   "id": "baf3e742",
   "metadata": {},
   "outputs": [
    {
     "name": "stdout",
     "output_type": "stream",
     "text": [
      "\n",
      "====== 자기소개 ======\n",
      "이름: 남대문 | 성별: 남 | 이메일: greatbrian88@gmail.com | 연락처: 010-2858-7940\n",
      "거주지: 서울 | 전공: 경영 경제\n",
      "\n",
      "기술 리스트(list): ['Ai', '자율주행', '로보틱스']\n",
      "기술 튜플(tuple): ('Ai', '자율주행', '로보틱스')\n",
      "기술 집합(set): {'로보틱스', '자율주행', 'Ai'}\n",
      "\n",
      "■ 프로젝트 이력(dict)\n",
      "- 프로젝트1:\n",
      "   · 프로젝트명: ESG 점수가 기업가치에 영향을 미치는가?\n",
      "   · 주제: 국내 상장기업의 ESG 점수와 주가 상관관계 분석\n",
      "   · 사용기술: ['Python', 'Pandas']\n",
      "   · 기간: 2025.04~2025.05\n",
      "- 프로젝트2:\n",
      "   · 프로젝트명: Gemini를 활용한 Thin Filer 증권 정보 제공\n",
      "   · 주제: Thin filer에게 gemini Api를 활용하여 실시간 증권 정보 제공 및 묻지마 투자 방지 \n",
      "   · 사용기술: ['Python', 'pandas', 'Numpy', 'sckit-learn', ' random-forestclassifier', 'lightgbm', 'catboost', 'gemini api', 'matplotlib', 'seaborn']\n",
      "   · 기간: 2025.05~2025.06\n"
     ]
    }
   ],
   "source": [
    "# 1. 기본 정보 입력\n",
    "name = input(\"이름: \")\n",
    "gender = input(\"성별: \")\n",
    "email = input(\"이메일: \")\n",
    "phone = input(\"연락처: \")\n",
    "address = input(\"거주지: \")\n",
    "major = input(\"전공: \")\n",
    "\n",
    "# 2. 기술 및 관심 분야 정보 (list, tuple, set)\n",
    "skills_input = input(\"기술/관심분야 (쉼표로 구분): \")\n",
    "skills_list = [skill.strip() for skill in skills_input.split(',')]\n",
    "skills_tuple = tuple(skills_list)\n",
    "skills_set = set(skills_list)\n",
    "\n",
    "# 3. 프로젝트 dict (2개 이상)\n",
    "projects = {\n",
    "    \"프로젝트1\": {\n",
    "        \"프로젝트명\": \"ESG 점수가 기업가치에 영향을 미치는가?\",\n",
    "        \"주제\": \"국내 상장기업의 ESG 점수와 주가 상관관계 분석\",\n",
    "        \"사용기술\": [\"Python\", \"Pandas\"],\n",
    "        \"기간\": \"2025.04~2025.05\"\n",
    "    },\n",
    "    \"프로젝트2\": {\n",
    "        \"프로젝트명\": \"Gemini를 활용한 Thin Filer 증권 정보 제공\",\n",
    "        \"주제\": \"Thin filer에게 gemini Api를 활용하여 실시간 증권 정보 제공 및 묻지마 투자 방지 \",\n",
    "        \"사용기술\": [\"Python\", \"pandas\", \"Numpy\", \"sckit-learn\", \" random-forestclassifier\", \"lightgbm\", \"catboost\", \"gemini api\", \"matplotlib\", \"seaborn\"],\n",
    "        \"기간\": \"2025.05~2025.06\"\n",
    "    }\n",
    "}\n",
    "\n",
    "# 4. 전체 구조적 출력\n",
    "print(\"\\n====== 자기소개 ======\")\n",
    "print(f\"이름: {name} | 성별: {gender} | 이메일: {email} | 연락처: {phone}\")\n",
    "print(f\"거주지: {address} | 전공: {major}\\n\")\n",
    "print(f\"기술 리스트(list): {skills_list}\")\n",
    "print(f\"기술 튜플(tuple): {skills_tuple}\")\n",
    "print(f\"기술 집합(set): {skills_set}\\n\")\n",
    "print(\"■ 프로젝트 이력(dict)\")\n",
    "for key, value in projects.items():\n",
    "    print(f\"- {key}:\")\n",
    "    for item_k, item_v in value.items():\n",
    "        print(f\"   · {item_k}: {item_v}\")"
   ]
  }
 ],
 "metadata": {
  "kernelspec": {
   "display_name": ".venv",
   "language": "python",
   "name": "python3"
  },
  "language_info": {
   "codemirror_mode": {
    "name": "ipython",
    "version": 3
   },
   "file_extension": ".py",
   "mimetype": "text/x-python",
   "name": "python",
   "nbconvert_exporter": "python",
   "pygments_lexer": "ipython3",
   "version": "3.12.3"
  }
 },
 "nbformat": 4,
 "nbformat_minor": 5
}
